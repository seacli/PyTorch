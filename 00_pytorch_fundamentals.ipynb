{
  "nbformat": 4,
  "nbformat_minor": 0,
  "metadata": {
    "colab": {
      "provenance": [],
      "authorship_tag": "ABX9TyPfd9RnuBDM4sJdEFG6Ffh7",
      "include_colab_link": true
    },
    "kernelspec": {
      "name": "python3",
      "display_name": "Python 3"
    },
    "language_info": {
      "name": "python"
    }
  },
  "cells": [
    {
      "cell_type": "markdown",
      "metadata": {
        "id": "view-in-github",
        "colab_type": "text"
      },
      "source": [
        "<a href=\"https://colab.research.google.com/github/seacli/PyTorch/blob/main/00_pytorch_fundamentals.ipynb\" target=\"_parent\"><img src=\"https://colab.research.google.com/assets/colab-badge.svg\" alt=\"Open In Colab\"/></a>"
      ]
    },
    {
      "cell_type": "code",
      "execution_count": 1,
      "metadata": {
        "id": "xD1tMqiNEbMN",
        "colab": {
          "base_uri": "https://localhost:8080/"
        },
        "outputId": "490598b7-c0fe-4c9b-a80d-e559fad302e4"
      },
      "outputs": [
        {
          "output_type": "stream",
          "name": "stdout",
          "text": [
            "2.8.0+cu126\n"
          ]
        }
      ],
      "source": [
        "import torch\n",
        "import pandas as pd\n",
        "import numpy as np\n",
        "import matplotlib.pyplot as plt\n",
        "print(torch.__version__)"
      ]
    },
    {
      "cell_type": "code",
      "source": [
        "from IPython.display import Image"
      ],
      "metadata": {
        "id": "NuMIFbOPaE84"
      },
      "execution_count": 2,
      "outputs": []
    },
    {
      "cell_type": "code",
      "source": [
        "!nvidia-smi"
      ],
      "metadata": {
        "colab": {
          "base_uri": "https://localhost:8080/"
        },
        "id": "4gKnbAlWF04h",
        "outputId": "f7dd64e9-5898-42d4-b9f0-a57ab8a7a818"
      },
      "execution_count": 3,
      "outputs": [
        {
          "output_type": "stream",
          "name": "stdout",
          "text": [
            "/bin/bash: line 1: nvidia-smi: command not found\n"
          ]
        }
      ]
    },
    {
      "cell_type": "markdown",
      "source": [
        "## Introduction to Tensors\n",
        "\n",
        "### Creating tensors\n"
      ],
      "metadata": {
        "id": "I7UO2QeTNlQ2"
      }
    },
    {
      "cell_type": "code",
      "source": [
        "# Scalar\n",
        "scalar = torch.tensor(7)\n",
        "scalar"
      ],
      "metadata": {
        "colab": {
          "base_uri": "https://localhost:8080/"
        },
        "id": "EgyC7q73OTMu",
        "outputId": "546788f7-e64c-4501-8629-25af16ef64a1"
      },
      "execution_count": 4,
      "outputs": [
        {
          "output_type": "execute_result",
          "data": {
            "text/plain": [
              "tensor(7)"
            ]
          },
          "metadata": {},
          "execution_count": 4
        }
      ]
    },
    {
      "cell_type": "code",
      "source": [
        "# Get tensor back as Python int\n",
        "scalar.item()"
      ],
      "metadata": {
        "colab": {
          "base_uri": "https://localhost:8080/"
        },
        "id": "fvXDGS6YO08f",
        "outputId": "39c4dae4-02d0-46d8-debb-1fedf2c9017e"
      },
      "execution_count": 5,
      "outputs": [
        {
          "output_type": "execute_result",
          "data": {
            "text/plain": [
              "7"
            ]
          },
          "metadata": {},
          "execution_count": 5
        }
      ]
    },
    {
      "cell_type": "code",
      "source": [
        "# Vector\n",
        "vector = torch.tensor([7, 7])\n",
        "vector"
      ],
      "metadata": {
        "colab": {
          "base_uri": "https://localhost:8080/"
        },
        "id": "ov65CnK-PPMu",
        "outputId": "b792ce06-f53b-4202-8cd6-18609772c399"
      },
      "execution_count": 6,
      "outputs": [
        {
          "output_type": "execute_result",
          "data": {
            "text/plain": [
              "tensor([7, 7])"
            ]
          },
          "metadata": {},
          "execution_count": 6
        }
      ]
    },
    {
      "cell_type": "code",
      "source": [
        "# number of brackets\n",
        "vector.ndim"
      ],
      "metadata": {
        "colab": {
          "base_uri": "https://localhost:8080/"
        },
        "id": "8Hwzr1F2Pkzf",
        "outputId": "d1526c9b-7f51-498b-cbb0-41edeff70b1e"
      },
      "execution_count": 7,
      "outputs": [
        {
          "output_type": "execute_result",
          "data": {
            "text/plain": [
              "1"
            ]
          },
          "metadata": {},
          "execution_count": 7
        }
      ]
    },
    {
      "cell_type": "code",
      "source": [
        "vector.shape"
      ],
      "metadata": {
        "colab": {
          "base_uri": "https://localhost:8080/"
        },
        "id": "yaBXHa0rW1Y0",
        "outputId": "6e4c8809-5248-4076-940b-4cde2b574097"
      },
      "execution_count": 8,
      "outputs": [
        {
          "output_type": "execute_result",
          "data": {
            "text/plain": [
              "torch.Size([2])"
            ]
          },
          "metadata": {},
          "execution_count": 8
        }
      ]
    },
    {
      "cell_type": "code",
      "source": [
        "# MATRIX\n",
        "MATRIX = torch.tensor([[7, 8],\n",
        "                       [9, 10]])\n",
        "MATRIX"
      ],
      "metadata": {
        "colab": {
          "base_uri": "https://localhost:8080/"
        },
        "id": "BEf6dlZiW_pg",
        "outputId": "bc314f22-81d7-4d4b-b7e6-e9d09ae7dce5"
      },
      "execution_count": 9,
      "outputs": [
        {
          "output_type": "execute_result",
          "data": {
            "text/plain": [
              "tensor([[ 7,  8],\n",
              "        [ 9, 10]])"
            ]
          },
          "metadata": {},
          "execution_count": 9
        }
      ]
    },
    {
      "cell_type": "code",
      "source": [
        "MATRIX.ndim"
      ],
      "metadata": {
        "colab": {
          "base_uri": "https://localhost:8080/"
        },
        "id": "W7-vzrnxXQGG",
        "outputId": "a1601465-8266-4ddf-fd4e-6101ac6d9064"
      },
      "execution_count": 10,
      "outputs": [
        {
          "output_type": "execute_result",
          "data": {
            "text/plain": [
              "2"
            ]
          },
          "metadata": {},
          "execution_count": 10
        }
      ]
    },
    {
      "cell_type": "code",
      "source": [
        "MATRIX[1]"
      ],
      "metadata": {
        "colab": {
          "base_uri": "https://localhost:8080/"
        },
        "id": "6rtiWYTkXWYQ",
        "outputId": "7acb61ae-df71-41c2-8226-1f29e7cdc560"
      },
      "execution_count": 11,
      "outputs": [
        {
          "output_type": "execute_result",
          "data": {
            "text/plain": [
              "tensor([ 9, 10])"
            ]
          },
          "metadata": {},
          "execution_count": 11
        }
      ]
    },
    {
      "cell_type": "code",
      "source": [
        "MATRIX.shape"
      ],
      "metadata": {
        "colab": {
          "base_uri": "https://localhost:8080/"
        },
        "id": "eLffw-t5XqZj",
        "outputId": "81178641-b410-49b0-e020-7709b14780e8"
      },
      "execution_count": 12,
      "outputs": [
        {
          "output_type": "execute_result",
          "data": {
            "text/plain": [
              "torch.Size([2, 2])"
            ]
          },
          "metadata": {},
          "execution_count": 12
        }
      ]
    },
    {
      "cell_type": "code",
      "source": [
        "# TENSOR\n",
        "TENSOR = torch.tensor([[[5,6,4],\n",
        "                        [7,8,6],\n",
        "                        [9,10,12]\n",
        "                        ]])\n",
        "TENSOR\n"
      ],
      "metadata": {
        "colab": {
          "base_uri": "https://localhost:8080/"
        },
        "id": "B5X1ARAkXsSL",
        "outputId": "95a00ef3-b881-4cea-e20f-9f869fb86c28"
      },
      "execution_count": 13,
      "outputs": [
        {
          "output_type": "execute_result",
          "data": {
            "text/plain": [
              "tensor([[[ 5,  6,  4],\n",
              "         [ 7,  8,  6],\n",
              "         [ 9, 10, 12]]])"
            ]
          },
          "metadata": {},
          "execution_count": 13
        }
      ]
    },
    {
      "cell_type": "code",
      "source": [
        "TENSOR.ndim"
      ],
      "metadata": {
        "colab": {
          "base_uri": "https://localhost:8080/"
        },
        "id": "HLLsnht_YXu1",
        "outputId": "38f461eb-3c01-41fb-e1f6-ab9a83f6335a"
      },
      "execution_count": 14,
      "outputs": [
        {
          "output_type": "execute_result",
          "data": {
            "text/plain": [
              "3"
            ]
          },
          "metadata": {},
          "execution_count": 14
        }
      ]
    },
    {
      "cell_type": "code",
      "source": [
        "TENSOR.shape"
      ],
      "metadata": {
        "colab": {
          "base_uri": "https://localhost:8080/"
        },
        "id": "RSIMVxMNYqbw",
        "outputId": "ca882324-678c-405a-aa21-89c2d63d7a57"
      },
      "execution_count": 15,
      "outputs": [
        {
          "output_type": "execute_result",
          "data": {
            "text/plain": [
              "torch.Size([1, 3, 3])"
            ]
          },
          "metadata": {},
          "execution_count": 15
        }
      ]
    },
    {
      "cell_type": "code",
      "source": [
        "TENSOR[0]"
      ],
      "metadata": {
        "colab": {
          "base_uri": "https://localhost:8080/"
        },
        "id": "hFchE_TiYtCY",
        "outputId": "ea2da831-48bb-4d86-f6e3-3135c35828fe"
      },
      "execution_count": 16,
      "outputs": [
        {
          "output_type": "execute_result",
          "data": {
            "text/plain": [
              "tensor([[ 5,  6,  4],\n",
              "        [ 7,  8,  6],\n",
              "        [ 9, 10, 12]])"
            ]
          },
          "metadata": {},
          "execution_count": 16
        }
      ]
    },
    {
      "cell_type": "markdown",
      "source": [
        "https://raw.githubusercontent.com/mrdbourke/pytorch-deep-learning/main/images/00-pytorch-different-tensor-dimensions.png"
      ],
      "metadata": {
        "id": "nm5AmGqcaNBO"
      }
    },
    {
      "cell_type": "markdown",
      "source": [
        "### Random tensors\n",
        "\n",
        "Why random tensors?\n",
        "\n",
        "Random tensors are important because the way many neural networks learn is that they start with tensors full of random numbers and then adjust those random numbers to better represent the data.\n",
        "\n",
        "`Start with random numbers -> look at data -> update random numbers -> look at data`\n",
        "\n",
        "https://docs.pytorch.org/docs/stable/generated/torch.rand.html#torch-rand"
      ],
      "metadata": {
        "id": "RiZMzvgzaP1U"
      }
    },
    {
      "cell_type": "code",
      "source": [
        "# Create a random tensor of size (3, 4)\n",
        "random_tensor = torch.rand(3,4)\n",
        "random_tensor"
      ],
      "metadata": {
        "colab": {
          "base_uri": "https://localhost:8080/"
        },
        "id": "HqOBakN0bkHe",
        "outputId": "50e85166-dcb2-47da-beea-ae907d87b398"
      },
      "execution_count": 17,
      "outputs": [
        {
          "output_type": "execute_result",
          "data": {
            "text/plain": [
              "tensor([[0.2621, 0.4890, 0.9219, 0.6289],\n",
              "        [0.0369, 0.7562, 0.0369, 0.6724],\n",
              "        [0.3715, 0.8067, 0.4182, 0.9104]])"
            ]
          },
          "metadata": {},
          "execution_count": 17
        }
      ]
    },
    {
      "cell_type": "code",
      "source": [
        "random_tensor.ndim"
      ],
      "metadata": {
        "colab": {
          "base_uri": "https://localhost:8080/"
        },
        "id": "pM8aHCVeb9LU",
        "outputId": "4895070c-e5b3-4d95-ab9f-fd4c8583ded7"
      },
      "execution_count": 18,
      "outputs": [
        {
          "output_type": "execute_result",
          "data": {
            "text/plain": [
              "2"
            ]
          },
          "metadata": {},
          "execution_count": 18
        }
      ]
    },
    {
      "cell_type": "code",
      "source": [
        "# Create a random tensor with similar shape to an image tensor\n",
        "random_image_size_tensor = torch.rand(size=(224, 224, 3)) # height, width, colour channels (R, G, B)\n",
        "random_image_size_tensor"
      ],
      "metadata": {
        "colab": {
          "base_uri": "https://localhost:8080/"
        },
        "id": "Xmi5TSRqcuvH",
        "outputId": "df739df3-cb4a-471a-8f1b-160261166895"
      },
      "execution_count": 19,
      "outputs": [
        {
          "output_type": "execute_result",
          "data": {
            "text/plain": [
              "tensor([[[0.6127, 0.5559, 0.6252],\n",
              "         [0.7142, 0.9333, 0.5883],\n",
              "         [0.4888, 0.8640, 0.4090],\n",
              "         ...,\n",
              "         [0.4050, 0.3883, 0.5407],\n",
              "         [0.2927, 0.3457, 0.7866],\n",
              "         [0.7313, 0.5340, 0.2343]],\n",
              "\n",
              "        [[0.1529, 0.6668, 0.9615],\n",
              "         [0.1105, 0.2686, 0.8068],\n",
              "         [0.4111, 0.1073, 0.6195],\n",
              "         ...,\n",
              "         [0.4347, 0.9002, 0.0189],\n",
              "         [0.5337, 0.2820, 0.8876],\n",
              "         [0.4250, 0.4950, 0.2536]],\n",
              "\n",
              "        [[0.0914, 0.0896, 0.9314],\n",
              "         [0.3692, 0.5639, 0.2173],\n",
              "         [0.9229, 0.6429, 0.6740],\n",
              "         ...,\n",
              "         [0.2203, 0.6832, 0.8702],\n",
              "         [0.3313, 0.4791, 0.1843],\n",
              "         [0.9976, 0.4436, 0.2726]],\n",
              "\n",
              "        ...,\n",
              "\n",
              "        [[0.5333, 0.7333, 0.5596],\n",
              "         [0.1781, 0.4384, 0.1076],\n",
              "         [0.5242, 0.9227, 0.7212],\n",
              "         ...,\n",
              "         [0.9969, 0.8758, 0.1154],\n",
              "         [0.3137, 0.6008, 0.6436],\n",
              "         [0.5112, 0.0284, 0.9954]],\n",
              "\n",
              "        [[0.9887, 0.7262, 0.6933],\n",
              "         [0.6568, 0.9532, 0.7390],\n",
              "         [0.5377, 0.3775, 0.5895],\n",
              "         ...,\n",
              "         [0.5019, 0.2741, 0.1910],\n",
              "         [0.4788, 0.2824, 0.8508],\n",
              "         [0.5014, 0.1979, 0.4691]],\n",
              "\n",
              "        [[0.2218, 0.7515, 0.9982],\n",
              "         [0.5266, 0.9111, 0.8475],\n",
              "         [0.6139, 0.2916, 0.0468],\n",
              "         ...,\n",
              "         [0.1425, 0.1337, 0.9292],\n",
              "         [0.6021, 0.9156, 0.7321],\n",
              "         [0.3976, 0.9835, 0.1179]]])"
            ]
          },
          "metadata": {},
          "execution_count": 19
        }
      ]
    },
    {
      "cell_type": "code",
      "source": [
        "random_image_size_tensor.shape, random_image_size_tensor.ndim"
      ],
      "metadata": {
        "colab": {
          "base_uri": "https://localhost:8080/"
        },
        "id": "t44LxepwdaSa",
        "outputId": "5b67b7ee-d933-4364-ee85-2a1d36d498d9"
      },
      "execution_count": 20,
      "outputs": [
        {
          "output_type": "execute_result",
          "data": {
            "text/plain": [
              "(torch.Size([224, 224, 3]), 3)"
            ]
          },
          "metadata": {},
          "execution_count": 20
        }
      ]
    },
    {
      "cell_type": "code",
      "source": [
        "# Create a tensor of all zeros\n",
        "zeros = torch.zeros(3,4)\n",
        "zeros"
      ],
      "metadata": {
        "colab": {
          "base_uri": "https://localhost:8080/"
        },
        "id": "lwAYBQTjdfb_",
        "outputId": "aeae5572-dac0-463c-fd87-40a0938c54a9"
      },
      "execution_count": 21,
      "outputs": [
        {
          "output_type": "execute_result",
          "data": {
            "text/plain": [
              "tensor([[0., 0., 0., 0.],\n",
              "        [0., 0., 0., 0.],\n",
              "        [0., 0., 0., 0.]])"
            ]
          },
          "metadata": {},
          "execution_count": 21
        }
      ]
    },
    {
      "cell_type": "code",
      "source": [
        "# Create a tensor of all ones\n",
        "ones = torch.ones(3,4)\n",
        "ones"
      ],
      "metadata": {
        "colab": {
          "base_uri": "https://localhost:8080/"
        },
        "id": "Z_KyDU_q9RRP",
        "outputId": "c7b9457a-b7b5-4a83-8525-053beefe0498"
      },
      "execution_count": 22,
      "outputs": [
        {
          "output_type": "execute_result",
          "data": {
            "text/plain": [
              "tensor([[1., 1., 1., 1.],\n",
              "        [1., 1., 1., 1.],\n",
              "        [1., 1., 1., 1.]])"
            ]
          },
          "metadata": {},
          "execution_count": 22
        }
      ]
    },
    {
      "cell_type": "code",
      "source": [
        "ones.dtype"
      ],
      "metadata": {
        "colab": {
          "base_uri": "https://localhost:8080/"
        },
        "id": "fsxgfY6c9kg2",
        "outputId": "a73ce0f8-ba47-4cbd-9b93-eafa65486afd"
      },
      "execution_count": 23,
      "outputs": [
        {
          "output_type": "execute_result",
          "data": {
            "text/plain": [
              "torch.float32"
            ]
          },
          "metadata": {},
          "execution_count": 23
        }
      ]
    },
    {
      "cell_type": "markdown",
      "source": [
        "# Creating a range of tensors and tensors-like"
      ],
      "metadata": {
        "id": "QPLdwxoW9l_-"
      }
    },
    {
      "cell_type": "code",
      "source": [
        "# Use torch.arange()\n",
        "torch.arange(0, 10)"
      ],
      "metadata": {
        "colab": {
          "base_uri": "https://localhost:8080/"
        },
        "id": "JNfpQ4E5_AyG",
        "outputId": "e7a508a6-1c7f-4875-cabb-dfded9238ba9"
      },
      "execution_count": 26,
      "outputs": [
        {
          "output_type": "execute_result",
          "data": {
            "text/plain": [
              "tensor([0, 1, 2, 3, 4, 5, 6, 7, 8, 9])"
            ]
          },
          "metadata": {},
          "execution_count": 26
        }
      ]
    },
    {
      "cell_type": "code",
      "source": [],
      "metadata": {
        "id": "mz9IhJ51_MzJ"
      },
      "execution_count": null,
      "outputs": []
    }
  ]
}