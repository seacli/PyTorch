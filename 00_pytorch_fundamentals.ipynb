{
  "nbformat": 4,
  "nbformat_minor": 0,
  "metadata": {
    "colab": {
      "provenance": [],
      "authorship_tag": "ABX9TyOGQvrIhOQKLCR5VK4DMcQf",
      "include_colab_link": true
    },
    "kernelspec": {
      "name": "python3",
      "display_name": "Python 3"
    },
    "language_info": {
      "name": "python"
    }
  },
  "cells": [
    {
      "cell_type": "markdown",
      "metadata": {
        "id": "view-in-github",
        "colab_type": "text"
      },
      "source": [
        "<a href=\"https://colab.research.google.com/github/seacli/PyTorch/blob/main/00_pytorch_fundamentals.ipynb\" target=\"_parent\"><img src=\"https://colab.research.google.com/assets/colab-badge.svg\" alt=\"Open In Colab\"/></a>"
      ]
    },
    {
      "cell_type": "code",
      "execution_count": 2,
      "metadata": {
        "id": "xD1tMqiNEbMN",
        "colab": {
          "base_uri": "https://localhost:8080/"
        },
        "outputId": "5528790e-1f09-437e-f721-1f874b7b98ee"
      },
      "outputs": [
        {
          "output_type": "stream",
          "name": "stdout",
          "text": [
            "2.8.0+cu126\n"
          ]
        }
      ],
      "source": [
        "import torch\n",
        "import pandas as pd\n",
        "import numpy as np\n",
        "import matplotlib.pyplot as plt\n",
        "print(torch.__version__)"
      ]
    },
    {
      "cell_type": "code",
      "source": [
        "from IPython.display import Image"
      ],
      "metadata": {
        "id": "NuMIFbOPaE84"
      },
      "execution_count": 33,
      "outputs": []
    },
    {
      "cell_type": "code",
      "source": [
        "!nvidia-smi"
      ],
      "metadata": {
        "colab": {
          "base_uri": "https://localhost:8080/"
        },
        "id": "4gKnbAlWF04h",
        "outputId": "e59eb1ad-cf38-45ce-b2cb-1ba7c9c13ff9"
      },
      "execution_count": 3,
      "outputs": [
        {
          "output_type": "stream",
          "name": "stdout",
          "text": [
            "/bin/bash: line 1: nvidia-smi: command not found\n"
          ]
        }
      ]
    },
    {
      "cell_type": "markdown",
      "source": [
        "## Introduction to Tensors\n",
        "\n",
        "### Creating tensors\n"
      ],
      "metadata": {
        "id": "I7UO2QeTNlQ2"
      }
    },
    {
      "cell_type": "code",
      "source": [
        "# Scalar\n",
        "scalar = torch.tensor(7)\n",
        "scalar"
      ],
      "metadata": {
        "colab": {
          "base_uri": "https://localhost:8080/"
        },
        "id": "EgyC7q73OTMu",
        "outputId": "4477bb80-9840-4d19-df0c-7f7e558df247"
      },
      "execution_count": 4,
      "outputs": [
        {
          "output_type": "execute_result",
          "data": {
            "text/plain": [
              "tensor(7)"
            ]
          },
          "metadata": {},
          "execution_count": 4
        }
      ]
    },
    {
      "cell_type": "code",
      "source": [
        "# Get tensor back as Python int\n",
        "scalar.item()"
      ],
      "metadata": {
        "colab": {
          "base_uri": "https://localhost:8080/"
        },
        "id": "fvXDGS6YO08f",
        "outputId": "20c58d74-2245-4a31-faa9-f7e60671ccea"
      },
      "execution_count": 5,
      "outputs": [
        {
          "output_type": "execute_result",
          "data": {
            "text/plain": [
              "7"
            ]
          },
          "metadata": {},
          "execution_count": 5
        }
      ]
    },
    {
      "cell_type": "code",
      "source": [
        "# Vector\n",
        "vector = torch.tensor([7, 7])\n",
        "vector"
      ],
      "metadata": {
        "colab": {
          "base_uri": "https://localhost:8080/"
        },
        "id": "ov65CnK-PPMu",
        "outputId": "edb1fcdf-f27b-430d-9585-fe027c6d992b"
      },
      "execution_count": 6,
      "outputs": [
        {
          "output_type": "execute_result",
          "data": {
            "text/plain": [
              "tensor([7, 7])"
            ]
          },
          "metadata": {},
          "execution_count": 6
        }
      ]
    },
    {
      "cell_type": "code",
      "source": [
        "# number of brackets\n",
        "vector.ndim"
      ],
      "metadata": {
        "colab": {
          "base_uri": "https://localhost:8080/"
        },
        "id": "8Hwzr1F2Pkzf",
        "outputId": "375b0a42-fdb8-4f20-d20a-22f3f36c98c5"
      },
      "execution_count": 8,
      "outputs": [
        {
          "output_type": "execute_result",
          "data": {
            "text/plain": [
              "1"
            ]
          },
          "metadata": {},
          "execution_count": 8
        }
      ]
    },
    {
      "cell_type": "code",
      "source": [
        "vector.shape"
      ],
      "metadata": {
        "colab": {
          "base_uri": "https://localhost:8080/"
        },
        "id": "yaBXHa0rW1Y0",
        "outputId": "d1af6c84-3df2-4449-d090-0ae7b364f8ac"
      },
      "execution_count": 9,
      "outputs": [
        {
          "output_type": "execute_result",
          "data": {
            "text/plain": [
              "torch.Size([2])"
            ]
          },
          "metadata": {},
          "execution_count": 9
        }
      ]
    },
    {
      "cell_type": "code",
      "source": [
        "# MATRIX\n",
        "MATRIX = torch.tensor([[7, 8],\n",
        "                       [9, 10]])\n",
        "MATRIX"
      ],
      "metadata": {
        "colab": {
          "base_uri": "https://localhost:8080/"
        },
        "id": "BEf6dlZiW_pg",
        "outputId": "93e04708-3fc1-4b0c-d42f-1502607815d8"
      },
      "execution_count": 12,
      "outputs": [
        {
          "output_type": "execute_result",
          "data": {
            "text/plain": [
              "tensor([[ 7,  8],\n",
              "        [ 9, 10]])"
            ]
          },
          "metadata": {},
          "execution_count": 12
        }
      ]
    },
    {
      "cell_type": "code",
      "source": [
        "MATRIX.ndim"
      ],
      "metadata": {
        "colab": {
          "base_uri": "https://localhost:8080/"
        },
        "id": "W7-vzrnxXQGG",
        "outputId": "bc17fa0b-e9ab-43a8-a710-6e335177fb2e"
      },
      "execution_count": 13,
      "outputs": [
        {
          "output_type": "execute_result",
          "data": {
            "text/plain": [
              "2"
            ]
          },
          "metadata": {},
          "execution_count": 13
        }
      ]
    },
    {
      "cell_type": "code",
      "source": [
        "MATRIX[1]"
      ],
      "metadata": {
        "colab": {
          "base_uri": "https://localhost:8080/"
        },
        "id": "6rtiWYTkXWYQ",
        "outputId": "38ed7d26-99ef-404c-f61b-6c38f674b33a"
      },
      "execution_count": 14,
      "outputs": [
        {
          "output_type": "execute_result",
          "data": {
            "text/plain": [
              "tensor([ 9, 10])"
            ]
          },
          "metadata": {},
          "execution_count": 14
        }
      ]
    },
    {
      "cell_type": "code",
      "source": [
        "MATRIX.shape"
      ],
      "metadata": {
        "colab": {
          "base_uri": "https://localhost:8080/"
        },
        "id": "eLffw-t5XqZj",
        "outputId": "a768c2cd-251e-4ca1-8bda-9fceff8d29fe"
      },
      "execution_count": 15,
      "outputs": [
        {
          "output_type": "execute_result",
          "data": {
            "text/plain": [
              "torch.Size([2, 2])"
            ]
          },
          "metadata": {},
          "execution_count": 15
        }
      ]
    },
    {
      "cell_type": "code",
      "source": [
        "# TENSOR\n",
        "TENSOR = torch.tensor([[[5,6,4],\n",
        "                        [7,8,6],\n",
        "                        [9,10,12]\n",
        "                        ]])\n",
        "TENSOR\n"
      ],
      "metadata": {
        "colab": {
          "base_uri": "https://localhost:8080/"
        },
        "id": "B5X1ARAkXsSL",
        "outputId": "b75180f6-4712-4005-ffc9-013592943784"
      },
      "execution_count": 23,
      "outputs": [
        {
          "output_type": "execute_result",
          "data": {
            "text/plain": [
              "tensor([[[ 5,  6,  4],\n",
              "         [ 7,  8,  6],\n",
              "         [ 9, 10, 12]]])"
            ]
          },
          "metadata": {},
          "execution_count": 23
        }
      ]
    },
    {
      "cell_type": "code",
      "source": [
        "TENSOR.ndim"
      ],
      "metadata": {
        "colab": {
          "base_uri": "https://localhost:8080/"
        },
        "id": "HLLsnht_YXu1",
        "outputId": "817f426c-4d29-4ace-b72f-b1ef7309f550"
      },
      "execution_count": 24,
      "outputs": [
        {
          "output_type": "execute_result",
          "data": {
            "text/plain": [
              "3"
            ]
          },
          "metadata": {},
          "execution_count": 24
        }
      ]
    },
    {
      "cell_type": "code",
      "source": [
        "TENSOR.shape"
      ],
      "metadata": {
        "colab": {
          "base_uri": "https://localhost:8080/"
        },
        "id": "RSIMVxMNYqbw",
        "outputId": "c6407f75-8182-4d3f-8bac-5bf04d18902e"
      },
      "execution_count": 25,
      "outputs": [
        {
          "output_type": "execute_result",
          "data": {
            "text/plain": [
              "torch.Size([1, 3, 3])"
            ]
          },
          "metadata": {},
          "execution_count": 25
        }
      ]
    },
    {
      "cell_type": "code",
      "source": [
        "TENSOR[0]"
      ],
      "metadata": {
        "colab": {
          "base_uri": "https://localhost:8080/"
        },
        "id": "hFchE_TiYtCY",
        "outputId": "7f568a5e-2db0-4f72-c1f5-216e7435babe"
      },
      "execution_count": 32,
      "outputs": [
        {
          "output_type": "execute_result",
          "data": {
            "text/plain": [
              "tensor([[ 5,  6,  4],\n",
              "        [ 7,  8,  6],\n",
              "        [ 9, 10, 12]])"
            ]
          },
          "metadata": {},
          "execution_count": 32
        }
      ]
    },
    {
      "cell_type": "markdown",
      "source": [
        "https://raw.githubusercontent.com/mrdbourke/pytorch-deep-learning/main/images/00-pytorch-different-tensor-dimensions.png"
      ],
      "metadata": {
        "id": "nm5AmGqcaNBO"
      }
    },
    {
      "cell_type": "markdown",
      "source": [
        "### Random tensors\n",
        "\n",
        "Why random tensors?\n",
        "\n",
        "Random tensors are important because the way many neural networks learn is that they start with tensors full of random numbers and then adjust those random numbers to better represent the data.\n",
        "\n",
        "`Start with random numbers -> look at data -> update random numbers -> look at data`\n",
        "\n",
        "https://docs.pytorch.org/docs/stable/generated/torch.rand.html#torch-rand"
      ],
      "metadata": {
        "id": "RiZMzvgzaP1U"
      }
    },
    {
      "cell_type": "code",
      "source": [
        "# Create a random tensor of size (3, 4)\n",
        "random_tensor = torch.rand(3,4)\n",
        "random_tensor"
      ],
      "metadata": {
        "colab": {
          "base_uri": "https://localhost:8080/"
        },
        "id": "HqOBakN0bkHe",
        "outputId": "1fb15c08-0b98-42df-84d6-4951bdae0618"
      },
      "execution_count": 37,
      "outputs": [
        {
          "output_type": "execute_result",
          "data": {
            "text/plain": [
              "tensor([[0.7407, 0.0477, 0.8067, 0.5959],\n",
              "        [0.2430, 0.2408, 0.8659, 0.6778],\n",
              "        [0.0015, 0.8116, 0.0043, 0.5209]])"
            ]
          },
          "metadata": {},
          "execution_count": 37
        }
      ]
    },
    {
      "cell_type": "code",
      "source": [
        "random_tensor.ndim"
      ],
      "metadata": {
        "colab": {
          "base_uri": "https://localhost:8080/"
        },
        "id": "pM8aHCVeb9LU",
        "outputId": "37cc1f77-537b-4242-ef1c-3155a517b413"
      },
      "execution_count": 38,
      "outputs": [
        {
          "output_type": "execute_result",
          "data": {
            "text/plain": [
              "2"
            ]
          },
          "metadata": {},
          "execution_count": 38
        }
      ]
    },
    {
      "cell_type": "code",
      "source": [
        "# Create a random tensor with similar shape to an image tensor\n",
        "random_image_size_tensor = torch.rand(size=(224, 224, 3)) # height, width, colour channels (R, G, B)\n",
        "random_image_size_tensor"
      ],
      "metadata": {
        "colab": {
          "base_uri": "https://localhost:8080/"
        },
        "id": "Xmi5TSRqcuvH",
        "outputId": "07656aec-98e5-464d-9843-0f9a1a670ea2"
      },
      "execution_count": 39,
      "outputs": [
        {
          "output_type": "execute_result",
          "data": {
            "text/plain": [
              "tensor([[[0.3364, 0.8668, 0.9588],\n",
              "         [0.0669, 0.7305, 0.8530],\n",
              "         [0.3427, 0.5617, 0.2237],\n",
              "         ...,\n",
              "         [0.0900, 0.9567, 0.2565],\n",
              "         [0.1305, 0.2235, 0.4836],\n",
              "         [0.4286, 0.4434, 0.0174]],\n",
              "\n",
              "        [[0.1263, 0.2928, 0.5049],\n",
              "         [0.5941, 0.8510, 0.6991],\n",
              "         [0.6748, 0.5359, 0.2809],\n",
              "         ...,\n",
              "         [0.5422, 0.0414, 0.7110],\n",
              "         [0.0144, 0.1742, 0.5926],\n",
              "         [0.9683, 0.7293, 0.1260]],\n",
              "\n",
              "        [[0.0509, 0.3729, 0.1663],\n",
              "         [0.2568, 0.9128, 0.6517],\n",
              "         [0.3481, 0.9492, 0.7311],\n",
              "         ...,\n",
              "         [0.4935, 0.4910, 0.9497],\n",
              "         [0.6138, 0.3689, 0.6610],\n",
              "         [0.8068, 0.0633, 0.9555]],\n",
              "\n",
              "        ...,\n",
              "\n",
              "        [[0.3202, 0.1781, 0.9212],\n",
              "         [0.7222, 0.1852, 0.4305],\n",
              "         [0.2704, 0.2979, 0.3736],\n",
              "         ...,\n",
              "         [0.1521, 0.9413, 0.2107],\n",
              "         [0.7287, 0.3623, 0.3314],\n",
              "         [0.1486, 0.1486, 0.5213]],\n",
              "\n",
              "        [[0.6661, 0.5265, 0.7945],\n",
              "         [0.8343, 0.9319, 0.2537],\n",
              "         [0.7846, 0.6054, 0.1351],\n",
              "         ...,\n",
              "         [0.5367, 0.7520, 0.9744],\n",
              "         [0.8920, 0.5102, 0.3789],\n",
              "         [0.3198, 0.4043, 0.9834]],\n",
              "\n",
              "        [[0.0863, 0.4664, 0.2100],\n",
              "         [0.6555, 0.4999, 0.9838],\n",
              "         [0.2084, 0.2015, 0.6719],\n",
              "         ...,\n",
              "         [0.6220, 0.0631, 0.9934],\n",
              "         [0.7731, 0.9197, 0.9998],\n",
              "         [0.4720, 0.7478, 0.7771]]])"
            ]
          },
          "metadata": {},
          "execution_count": 39
        }
      ]
    },
    {
      "cell_type": "code",
      "source": [
        "random_image_size_tensor.shape, random_image_size_tensor.ndim"
      ],
      "metadata": {
        "colab": {
          "base_uri": "https://localhost:8080/"
        },
        "id": "t44LxepwdaSa",
        "outputId": "0d2d5b6a-4d5a-4c4c-8975-e201e795142a"
      },
      "execution_count": 42,
      "outputs": [
        {
          "output_type": "execute_result",
          "data": {
            "text/plain": [
              "(torch.Size([224, 224, 3]), 3)"
            ]
          },
          "metadata": {},
          "execution_count": 42
        }
      ]
    },
    {
      "cell_type": "code",
      "source": [],
      "metadata": {
        "id": "lwAYBQTjdfb_"
      },
      "execution_count": null,
      "outputs": []
    }
  ]
}